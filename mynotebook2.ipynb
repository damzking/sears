{
 "cells": [
  {
   "cell_type": "code",
   "execution_count": null,
   "metadata": {},
   "outputs": [],
   "source": [
    "import pandas as pd\n",
    "import numpy as np\n",
    "import matplotlib.pyplot as plt\n",
    "import seaborn as sns"
   ]
  },
  {
   "cell_type": "code",
   "execution_count": 3,
   "metadata": {},
   "outputs": [],
   "source": [
    "Angola_df = pd.read_csv('../SEARS/ANGOLA.csv')"
   ]
  },
  {
   "cell_type": "code",
   "execution_count": 4,
   "metadata": {},
   "outputs": [
    {
     "data": {
      "text/html": [
       "<div>\n",
       "<style scoped>\n",
       "    .dataframe tbody tr th:only-of-type {\n",
       "        vertical-align: middle;\n",
       "    }\n",
       "\n",
       "    .dataframe tbody tr th {\n",
       "        vertical-align: top;\n",
       "    }\n",
       "\n",
       "    .dataframe thead th {\n",
       "        text-align: right;\n",
       "    }\n",
       "</style>\n",
       "<table border=\"1\" class=\"dataframe\">\n",
       "  <thead>\n",
       "    <tr style=\"text-align: right;\">\n",
       "      <th></th>\n",
       "      <th>Date</th>\n",
       "      <th>USD</th>\n",
       "      <th>Unnamed: 2</th>\n",
       "      <th>Date.1</th>\n",
       "      <th>GBP</th>\n",
       "      <th>Unnamed: 5</th>\n",
       "      <th>Date.2</th>\n",
       "      <th>EUR</th>\n",
       "    </tr>\n",
       "  </thead>\n",
       "  <tbody>\n",
       "    <tr>\n",
       "      <th>0</th>\n",
       "      <td>6 Jan 2004</td>\n",
       "      <td>79.01866</td>\n",
       "      <td>NaN</td>\n",
       "      <td>6 Jan 2004</td>\n",
       "      <td>140.84286</td>\n",
       "      <td>NaN</td>\n",
       "      <td>6 Jan 2004</td>\n",
       "      <td>99.68994</td>\n",
       "    </tr>\n",
       "    <tr>\n",
       "      <th>1</th>\n",
       "      <td>7 Jan 2004</td>\n",
       "      <td>78.87716</td>\n",
       "      <td>NaN</td>\n",
       "      <td>7 Jan 2004</td>\n",
       "      <td>143.36713</td>\n",
       "      <td>NaN</td>\n",
       "      <td>7 Jan 2004</td>\n",
       "      <td>100.33175</td>\n",
       "    </tr>\n",
       "    <tr>\n",
       "      <th>2</th>\n",
       "      <td>8 Jan 2004</td>\n",
       "      <td>78.84478</td>\n",
       "      <td>NaN</td>\n",
       "      <td>8 Jan 2004</td>\n",
       "      <td>143.09539</td>\n",
       "      <td>NaN</td>\n",
       "      <td>8 Jan 2004</td>\n",
       "      <td>99.77018</td>\n",
       "    </tr>\n",
       "    <tr>\n",
       "      <th>3</th>\n",
       "      <td>9 Jan 2004</td>\n",
       "      <td>78.90775</td>\n",
       "      <td>NaN</td>\n",
       "      <td>9 Jan 2004</td>\n",
       "      <td>143.27280</td>\n",
       "      <td>NaN</td>\n",
       "      <td>9 Jan 2004</td>\n",
       "      <td>99.38431</td>\n",
       "    </tr>\n",
       "    <tr>\n",
       "      <th>4</th>\n",
       "      <td>12 Jan 2004</td>\n",
       "      <td>78.92975</td>\n",
       "      <td>NaN</td>\n",
       "      <td>12 Jan 2004</td>\n",
       "      <td>144.73348</td>\n",
       "      <td>NaN</td>\n",
       "      <td>12 Jan 2004</td>\n",
       "      <td>100.50125</td>\n",
       "    </tr>\n",
       "  </tbody>\n",
       "</table>\n",
       "</div>"
      ],
      "text/plain": [
       "          Date       USD  Unnamed: 2       Date.1        GBP  Unnamed: 5  \\\n",
       "0   6 Jan 2004  79.01866         NaN   6 Jan 2004  140.84286         NaN   \n",
       "1   7 Jan 2004  78.87716         NaN   7 Jan 2004  143.36713         NaN   \n",
       "2   8 Jan 2004  78.84478         NaN   8 Jan 2004  143.09539         NaN   \n",
       "3   9 Jan 2004  78.90775         NaN   9 Jan 2004  143.27280         NaN   \n",
       "4  12 Jan 2004  78.92975         NaN  12 Jan 2004  144.73348         NaN   \n",
       "\n",
       "        Date.2        EUR  \n",
       "0   6 Jan 2004   99.68994  \n",
       "1   7 Jan 2004  100.33175  \n",
       "2   8 Jan 2004   99.77018  \n",
       "3   9 Jan 2004   99.38431  \n",
       "4  12 Jan 2004  100.50125  "
      ]
     },
     "execution_count": 4,
     "metadata": {},
     "output_type": "execute_result"
    }
   ],
   "source": [
    "Angola_df.head()"
   ]
  },
  {
   "cell_type": "code",
   "execution_count": 5,
   "metadata": {},
   "outputs": [
    {
     "name": "stdout",
     "output_type": "stream",
     "text": [
      "<class 'pandas.core.frame.DataFrame'>\n",
      "RangeIndex: 4825 entries, 0 to 4824\n",
      "Data columns (total 8 columns):\n",
      " #   Column      Non-Null Count  Dtype  \n",
      "---  ------      --------------  -----  \n",
      " 0   Date        4825 non-null   object \n",
      " 1   USD         4823 non-null   float64\n",
      " 2   Unnamed: 2  0 non-null      float64\n",
      " 3   Date.1      4760 non-null   object \n",
      " 4   GBP         4756 non-null   float64\n",
      " 5   Unnamed: 5  0 non-null      float64\n",
      " 6   Date.2      4764 non-null   object \n",
      " 7   EUR         4760 non-null   float64\n",
      "dtypes: float64(5), object(3)\n",
      "memory usage: 301.7+ KB\n"
     ]
    }
   ],
   "source": [
    "Angola_df.info()"
   ]
  },
  {
   "cell_type": "code",
   "execution_count": 6,
   "metadata": {},
   "outputs": [],
   "source": [
    "Angola_df= Angola_df.drop(columns=['Unnamed: 5','Unnamed: 2'])"
   ]
  },
  {
   "cell_type": "code",
   "execution_count": 7,
   "metadata": {},
   "outputs": [
    {
     "data": {
      "text/html": [
       "<div>\n",
       "<style scoped>\n",
       "    .dataframe tbody tr th:only-of-type {\n",
       "        vertical-align: middle;\n",
       "    }\n",
       "\n",
       "    .dataframe tbody tr th {\n",
       "        vertical-align: top;\n",
       "    }\n",
       "\n",
       "    .dataframe thead th {\n",
       "        text-align: right;\n",
       "    }\n",
       "</style>\n",
       "<table border=\"1\" class=\"dataframe\">\n",
       "  <thead>\n",
       "    <tr style=\"text-align: right;\">\n",
       "      <th></th>\n",
       "      <th>Date</th>\n",
       "      <th>USD</th>\n",
       "      <th>Date.1</th>\n",
       "      <th>GBP</th>\n",
       "      <th>Date.2</th>\n",
       "      <th>EUR</th>\n",
       "    </tr>\n",
       "  </thead>\n",
       "  <tbody>\n",
       "    <tr>\n",
       "      <th>0</th>\n",
       "      <td>6 Jan 2004</td>\n",
       "      <td>79.01866</td>\n",
       "      <td>6 Jan 2004</td>\n",
       "      <td>140.84286</td>\n",
       "      <td>6 Jan 2004</td>\n",
       "      <td>99.68994</td>\n",
       "    </tr>\n",
       "    <tr>\n",
       "      <th>1</th>\n",
       "      <td>7 Jan 2004</td>\n",
       "      <td>78.87716</td>\n",
       "      <td>7 Jan 2004</td>\n",
       "      <td>143.36713</td>\n",
       "      <td>7 Jan 2004</td>\n",
       "      <td>100.33175</td>\n",
       "    </tr>\n",
       "    <tr>\n",
       "      <th>2</th>\n",
       "      <td>8 Jan 2004</td>\n",
       "      <td>78.84478</td>\n",
       "      <td>8 Jan 2004</td>\n",
       "      <td>143.09539</td>\n",
       "      <td>8 Jan 2004</td>\n",
       "      <td>99.77018</td>\n",
       "    </tr>\n",
       "    <tr>\n",
       "      <th>3</th>\n",
       "      <td>9 Jan 2004</td>\n",
       "      <td>78.90775</td>\n",
       "      <td>9 Jan 2004</td>\n",
       "      <td>143.27280</td>\n",
       "      <td>9 Jan 2004</td>\n",
       "      <td>99.38431</td>\n",
       "    </tr>\n",
       "    <tr>\n",
       "      <th>4</th>\n",
       "      <td>12 Jan 2004</td>\n",
       "      <td>78.92975</td>\n",
       "      <td>12 Jan 2004</td>\n",
       "      <td>144.73348</td>\n",
       "      <td>12 Jan 2004</td>\n",
       "      <td>100.50125</td>\n",
       "    </tr>\n",
       "  </tbody>\n",
       "</table>\n",
       "</div>"
      ],
      "text/plain": [
       "          Date       USD       Date.1        GBP       Date.2        EUR\n",
       "0   6 Jan 2004  79.01866   6 Jan 2004  140.84286   6 Jan 2004   99.68994\n",
       "1   7 Jan 2004  78.87716   7 Jan 2004  143.36713   7 Jan 2004  100.33175\n",
       "2   8 Jan 2004  78.84478   8 Jan 2004  143.09539   8 Jan 2004   99.77018\n",
       "3   9 Jan 2004  78.90775   9 Jan 2004  143.27280   9 Jan 2004   99.38431\n",
       "4  12 Jan 2004  78.92975  12 Jan 2004  144.73348  12 Jan 2004  100.50125"
      ]
     },
     "execution_count": 7,
     "metadata": {},
     "output_type": "execute_result"
    }
   ],
   "source": [
    "Angola_df.head()"
   ]
  },
  {
   "cell_type": "code",
   "execution_count": 8,
   "metadata": {},
   "outputs": [],
   "source": [
    "Angola_df= Angola_df.rename(columns= {'Date.1': 'Date_GBP',\n",
    "                                       'Date.2': 'Date_EUR' })"
   ]
  },
  {
   "cell_type": "code",
   "execution_count": 9,
   "metadata": {},
   "outputs": [],
   "source": [
    "Angola_df['Date'] = pd.to_datetime(Angola_df['Date'])\n",
    "Angola_df['Date_GBP'] = pd.to_datetime(Angola_df['Date_GBP'])\n",
    "Angola_df['Date_EUR'] = pd.to_datetime(Angola_df['Date_EUR'])"
   ]
  },
  {
   "cell_type": "code",
   "execution_count": 10,
   "metadata": {},
   "outputs": [],
   "source": [
    "# Convert to a specific string format (e.g., 'YYYY-MM-DD')\n",
    "Angola_df['Date'] = Angola_df['Date'].dt.strftime('%Y-%m-%d')\n",
    "Angola_df['Date_GBP'] = Angola_df['Date_GBP'].dt.strftime('%Y-%m-%d')\n",
    "Angola_df['Date_EUR'] = Angola_df['Date_EUR'].dt.strftime('%Y-%m-%d')"
   ]
  },
  {
   "cell_type": "code",
   "execution_count": 11,
   "metadata": {},
   "outputs": [
    {
     "data": {
      "text/html": [
       "<div>\n",
       "<style scoped>\n",
       "    .dataframe tbody tr th:only-of-type {\n",
       "        vertical-align: middle;\n",
       "    }\n",
       "\n",
       "    .dataframe tbody tr th {\n",
       "        vertical-align: top;\n",
       "    }\n",
       "\n",
       "    .dataframe thead th {\n",
       "        text-align: right;\n",
       "    }\n",
       "</style>\n",
       "<table border=\"1\" class=\"dataframe\">\n",
       "  <thead>\n",
       "    <tr style=\"text-align: right;\">\n",
       "      <th></th>\n",
       "      <th>Date</th>\n",
       "      <th>USD</th>\n",
       "      <th>Date_GBP</th>\n",
       "      <th>GBP</th>\n",
       "      <th>Date_EUR</th>\n",
       "      <th>EUR</th>\n",
       "    </tr>\n",
       "  </thead>\n",
       "  <tbody>\n",
       "    <tr>\n",
       "      <th>0</th>\n",
       "      <td>2004-01-06</td>\n",
       "      <td>79.01866</td>\n",
       "      <td>2004-01-06</td>\n",
       "      <td>140.84286</td>\n",
       "      <td>2004-01-06</td>\n",
       "      <td>99.68994</td>\n",
       "    </tr>\n",
       "    <tr>\n",
       "      <th>1</th>\n",
       "      <td>2004-01-07</td>\n",
       "      <td>78.87716</td>\n",
       "      <td>2004-01-07</td>\n",
       "      <td>143.36713</td>\n",
       "      <td>2004-01-07</td>\n",
       "      <td>100.33175</td>\n",
       "    </tr>\n",
       "    <tr>\n",
       "      <th>2</th>\n",
       "      <td>2004-01-08</td>\n",
       "      <td>78.84478</td>\n",
       "      <td>2004-01-08</td>\n",
       "      <td>143.09539</td>\n",
       "      <td>2004-01-08</td>\n",
       "      <td>99.77018</td>\n",
       "    </tr>\n",
       "    <tr>\n",
       "      <th>3</th>\n",
       "      <td>2004-01-09</td>\n",
       "      <td>78.90775</td>\n",
       "      <td>2004-01-09</td>\n",
       "      <td>143.27280</td>\n",
       "      <td>2004-01-09</td>\n",
       "      <td>99.38431</td>\n",
       "    </tr>\n",
       "    <tr>\n",
       "      <th>4</th>\n",
       "      <td>2004-01-12</td>\n",
       "      <td>78.92975</td>\n",
       "      <td>2004-01-12</td>\n",
       "      <td>144.73348</td>\n",
       "      <td>2004-01-12</td>\n",
       "      <td>100.50125</td>\n",
       "    </tr>\n",
       "  </tbody>\n",
       "</table>\n",
       "</div>"
      ],
      "text/plain": [
       "         Date       USD    Date_GBP        GBP    Date_EUR        EUR\n",
       "0  2004-01-06  79.01866  2004-01-06  140.84286  2004-01-06   99.68994\n",
       "1  2004-01-07  78.87716  2004-01-07  143.36713  2004-01-07  100.33175\n",
       "2  2004-01-08  78.84478  2004-01-08  143.09539  2004-01-08   99.77018\n",
       "3  2004-01-09  78.90775  2004-01-09  143.27280  2004-01-09   99.38431\n",
       "4  2004-01-12  78.92975  2004-01-12  144.73348  2004-01-12  100.50125"
      ]
     },
     "execution_count": 11,
     "metadata": {},
     "output_type": "execute_result"
    }
   ],
   "source": [
    "Angola_df.head()"
   ]
  },
  {
   "cell_type": "code",
   "execution_count": 74,
   "metadata": {},
   "outputs": [],
   "source": [
    "numeric_columns = Angola_df.select_dtypes(include=['number'])\n",
    "obj_cols = Angola_df.select_dtypes(include=['object'])\n"
   ]
  },
  {
   "cell_type": "code",
   "execution_count": 79,
   "metadata": {},
   "outputs": [
    {
     "data": {
      "image/png": "[encoded data removed]",
      "text/plain": [
       "<Figure size 640x480 with 1 Axes>"
      ]
     },
     "metadata": {},
     "output_type": "display_data"
    },
    {
     "data": {
      "image/png": "[encoded data removed]",
      "text/plain": [
       "<Figure size 640x480 with 1 Axes>"
      ]
     },
     "metadata": {},
     "output_type": "display_data"
    },
    {
     "data": {
      "image/png": "[encoded data removed]",
      "text/plain": [
       "<Figure size 640x480 with 1 Axes>"
      ]
     },
     "metadata": {},
     "output_type": "display_data"
    }
   ],
   "source": [
    "for column in numeric_columns.columns:\n",
    "    plt.figure()  # Create a new figure for each boxplot\n",
    "    plt.hist(Angola_df[column])\n",
    "    plt.title(f'Boxplot of {column}')  # Set the title of the plot\n",
    "    plt.show()"
   ]
  },
  {
   "cell_type": "code",
   "execution_count": 12,
   "metadata": {},
   "outputs": [],
   "source": [
    "USD_Angola_df = Angola_df[['Date', 'USD']]\n",
    "GBP_Angola_df = Angola_df[['Date_GBP', 'GBP']]\n",
    "EUR_Angola_df = Angola_df[['Date_EUR', 'EUR']]"
   ]
  },
  {
   "cell_type": "code",
   "execution_count": 28,
   "metadata": {},
   "outputs": [],
   "source": [
    "Currency_df = Angola_df[['Date','USD','Date_GBP','GBP','Date_EUR','EUR']]"
   ]
  },
  {
   "cell_type": "markdown",
   "metadata": {},
   "source": [
    "### FOR US DOLLAR"
   ]
  },
  {
   "cell_type": "code",
   "execution_count": 13,
   "metadata": {},
   "outputs": [],
   "source": [
    "# Create a complete date range from Jan 6, 2004, to Nov 30, 2023\n",
    "date_range = pd.date_range(start='2004-01-06', end='2023-11-30', freq='D')"
   ]
  },
  {
   "cell_type": "code",
   "execution_count": 14,
   "metadata": {},
   "outputs": [],
   "source": [
    "dates_df = pd.DataFrame(date_range, columns=['Date'])"
   ]
  },
  {
   "cell_type": "code",
   "execution_count": 15,
   "metadata": {},
   "outputs": [
    {
     "name": "stdout",
     "output_type": "stream",
     "text": [
      "<class 'pandas.core.frame.DataFrame'>\n",
      "RangeIndex: 7269 entries, 0 to 7268\n",
      "Data columns (total 1 columns):\n",
      " #   Column  Non-Null Count  Dtype         \n",
      "---  ------  --------------  -----         \n",
      " 0   Date    7269 non-null   datetime64[ns]\n",
      "dtypes: datetime64[ns](1)\n",
      "memory usage: 56.9 KB\n"
     ]
    }
   ],
   "source": [
    "dates_df.info()"
   ]
  },
  {
   "cell_type": "code",
   "execution_count": 16,
   "metadata": {},
   "outputs": [
    {
     "name": "stdout",
     "output_type": "stream",
     "text": [
      "<class 'pandas.core.frame.DataFrame'>\n",
      "RangeIndex: 4825 entries, 0 to 4824\n",
      "Data columns (total 2 columns):\n",
      " #   Column  Non-Null Count  Dtype  \n",
      "---  ------  --------------  -----  \n",
      " 0   Date    4825 non-null   object \n",
      " 1   USD     4823 non-null   float64\n",
      "dtypes: float64(1), object(1)\n",
      "memory usage: 75.5+ KB\n"
     ]
    }
   ],
   "source": [
    "USD_Angola_df.info()"
   ]
  },
  {
   "cell_type": "code",
   "execution_count": 17,
   "metadata": {},
   "outputs": [
    {
     "name": "stderr",
     "output_type": "stream",
     "text": [
      "C:\\Users\\damzking\\AppData\\Local\\Temp\\ipykernel_20784\\3316240419.py:1: SettingWithCopyWarning: \n",
      "A value is trying to be set on a copy of a slice from a DataFrame.\n",
      "Try using .loc[row_indexer,col_indexer] = value instead\n",
      "\n",
      "See the caveats in the documentation: https://pandas.pydata.org/pandas-docs/stable/user_guide/indexing.html#returning-a-view-versus-a-copy\n",
      "  USD_Angola_df['Date'] = pd.to_datetime(USD_Angola_df['Date'])\n"
     ]
    }
   ],
   "source": [
    "USD_Angola_df['Date'] = pd.to_datetime(USD_Angola_df['Date'])"
   ]
  },
  {
   "cell_type": "code",
   "execution_count": 18,
   "metadata": {},
   "outputs": [],
   "source": [
    "Angola_USA_merge_df = pd.merge(dates_df, USD_Angola_df, how='left', on= 'Date')"
   ]
  },
  {
   "cell_type": "code",
   "execution_count": 19,
   "metadata": {},
   "outputs": [
    {
     "data": {
      "text/html": [
       "<div>\n",
       "<style scoped>\n",
       "    .dataframe tbody tr th:only-of-type {\n",
       "        vertical-align: middle;\n",
       "    }\n",
       "\n",
       "    .dataframe tbody tr th {\n",
       "        vertical-align: top;\n",
       "    }\n",
       "\n",
       "    .dataframe thead th {\n",
       "        text-align: right;\n",
       "    }\n",
       "</style>\n",
       "<table border=\"1\" class=\"dataframe\">\n",
       "  <thead>\n",
       "    <tr style=\"text-align: right;\">\n",
       "      <th></th>\n",
       "      <th>Date</th>\n",
       "      <th>USD</th>\n",
       "    </tr>\n",
       "  </thead>\n",
       "  <tbody>\n",
       "    <tr>\n",
       "      <th>0</th>\n",
       "      <td>2004-01-06</td>\n",
       "      <td>79.01866</td>\n",
       "    </tr>\n",
       "    <tr>\n",
       "      <th>1</th>\n",
       "      <td>2004-01-07</td>\n",
       "      <td>78.87716</td>\n",
       "    </tr>\n",
       "    <tr>\n",
       "      <th>2</th>\n",
       "      <td>2004-01-08</td>\n",
       "      <td>78.84478</td>\n",
       "    </tr>\n",
       "    <tr>\n",
       "      <th>3</th>\n",
       "      <td>2004-01-09</td>\n",
       "      <td>78.90775</td>\n",
       "    </tr>\n",
       "    <tr>\n",
       "      <th>4</th>\n",
       "      <td>2004-01-10</td>\n",
       "      <td>NaN</td>\n",
       "    </tr>\n",
       "  </tbody>\n",
       "</table>\n",
       "</div>"
      ],
      "text/plain": [
       "        Date       USD\n",
       "0 2004-01-06  79.01866\n",
       "1 2004-01-07  78.87716\n",
       "2 2004-01-08  78.84478\n",
       "3 2004-01-09  78.90775\n",
       "4 2004-01-10       NaN"
      ]
     },
     "execution_count": 19,
     "metadata": {},
     "output_type": "execute_result"
    }
   ],
   "source": [
    "Angola_USA_merge_df.head()"
   ]
  },
  {
   "cell_type": "markdown",
   "metadata": {},
   "source": [
    "### Excluding  WEEKENDS "
   ]
  },
  {
   "cell_type": "code",
   "execution_count": 20,
   "metadata": {},
   "outputs": [],
   "source": [
    "Angola_USA_merge_df = Angola_USA_merge_df[~Angola_USA_merge_df['Date'].dt.weekday.isin([5, 6])]"
   ]
  },
  {
   "cell_type": "code",
   "execution_count": 21,
   "metadata": {},
   "outputs": [
    {
     "data": {
      "text/html": [
       "<div>\n",
       "<style scoped>\n",
       "    .dataframe tbody tr th:only-of-type {\n",
       "        vertical-align: middle;\n",
       "    }\n",
       "\n",
       "    .dataframe tbody tr th {\n",
       "        vertical-align: top;\n",
       "    }\n",
       "\n",
       "    .dataframe thead th {\n",
       "        text-align: right;\n",
       "    }\n",
       "</style>\n",
       "<table border=\"1\" class=\"dataframe\">\n",
       "  <thead>\n",
       "    <tr style=\"text-align: right;\">\n",
       "      <th></th>\n",
       "      <th>Date</th>\n",
       "      <th>USD</th>\n",
       "    </tr>\n",
       "  </thead>\n",
       "  <tbody>\n",
       "    <tr>\n",
       "      <th>0</th>\n",
       "      <td>2004-01-06</td>\n",
       "      <td>79.01866</td>\n",
       "    </tr>\n",
       "    <tr>\n",
       "      <th>1</th>\n",
       "      <td>2004-01-07</td>\n",
       "      <td>78.87716</td>\n",
       "    </tr>\n",
       "    <tr>\n",
       "      <th>2</th>\n",
       "      <td>2004-01-08</td>\n",
       "      <td>78.84478</td>\n",
       "    </tr>\n",
       "    <tr>\n",
       "      <th>3</th>\n",
       "      <td>2004-01-09</td>\n",
       "      <td>78.90775</td>\n",
       "    </tr>\n",
       "    <tr>\n",
       "      <th>6</th>\n",
       "      <td>2004-01-12</td>\n",
       "      <td>78.92975</td>\n",
       "    </tr>\n",
       "    <tr>\n",
       "      <th>...</th>\n",
       "      <td>...</td>\n",
       "      <td>...</td>\n",
       "    </tr>\n",
       "    <tr>\n",
       "      <th>7262</th>\n",
       "      <td>2023-11-24</td>\n",
       "      <td>827.71600</td>\n",
       "    </tr>\n",
       "    <tr>\n",
       "      <th>7265</th>\n",
       "      <td>2023-11-27</td>\n",
       "      <td>827.71600</td>\n",
       "    </tr>\n",
       "    <tr>\n",
       "      <th>7266</th>\n",
       "      <td>2023-11-28</td>\n",
       "      <td>827.79300</td>\n",
       "    </tr>\n",
       "    <tr>\n",
       "      <th>7267</th>\n",
       "      <td>2023-11-29</td>\n",
       "      <td>827.79300</td>\n",
       "    </tr>\n",
       "    <tr>\n",
       "      <th>7268</th>\n",
       "      <td>2023-11-30</td>\n",
       "      <td>827.79300</td>\n",
       "    </tr>\n",
       "  </tbody>\n",
       "</table>\n",
       "<p>5193 rows × 2 columns</p>\n",
       "</div>"
      ],
      "text/plain": [
       "           Date        USD\n",
       "0    2004-01-06   79.01866\n",
       "1    2004-01-07   78.87716\n",
       "2    2004-01-08   78.84478\n",
       "3    2004-01-09   78.90775\n",
       "6    2004-01-12   78.92975\n",
       "...         ...        ...\n",
       "7262 2023-11-24  827.71600\n",
       "7265 2023-11-27  827.71600\n",
       "7266 2023-11-28  827.79300\n",
       "7267 2023-11-29  827.79300\n",
       "7268 2023-11-30  827.79300\n",
       "\n",
       "[5193 rows x 2 columns]"
      ]
     },
     "execution_count": 21,
     "metadata": {},
     "output_type": "execute_result"
    }
   ],
   "source": [
    "Angola_USA_merge_df"
   ]
  },
  {
   "cell_type": "code",
   "execution_count": 22,
   "metadata": {},
   "outputs": [],
   "source": [
    "Angola_USA_merge_df = Angola_USA_merge_df.set_index('Date')\n"
   ]
  },
  {
   "cell_type": "code",
   "execution_count": 23,
   "metadata": {},
   "outputs": [
    {
     "name": "stdout",
     "output_type": "stream",
     "text": [
      " There are 389 missing dollars exchange rate during the weekdays\n"
     ]
    }
   ],
   "source": [
    "print(f\" There are {Angola_USA_merge_df['USD'].isna().sum()} missing dollars exchange rate during the weekdays\")"
   ]
  },
  {
   "cell_type": "code",
   "execution_count": 24,
   "metadata": {},
   "outputs": [],
   "source": [
    "# Perform forward fill and assign it back to the original column\n",
    "Angola_USA_merge_df['USD'] = Angola_USA_merge_df['USD'].ffill()"
   ]
  },
  {
   "cell_type": "code",
   "execution_count": 25,
   "metadata": {},
   "outputs": [
    {
     "data": {
      "text/html": [
       "<div>\n",
       "<style scoped>\n",
       "    .dataframe tbody tr th:only-of-type {\n",
       "        vertical-align: middle;\n",
       "    }\n",
       "\n",
       "    .dataframe tbody tr th {\n",
       "        vertical-align: top;\n",
       "    }\n",
       "\n",
       "    .dataframe thead th {\n",
       "        text-align: right;\n",
       "    }\n",
       "</style>\n",
       "<table border=\"1\" class=\"dataframe\">\n",
       "  <thead>\n",
       "    <tr style=\"text-align: right;\">\n",
       "      <th></th>\n",
       "      <th>USD</th>\n",
       "    </tr>\n",
       "    <tr>\n",
       "      <th>Date</th>\n",
       "      <th></th>\n",
       "    </tr>\n",
       "  </thead>\n",
       "  <tbody>\n",
       "    <tr>\n",
       "      <th>2004-01-06</th>\n",
       "      <td>79.01866</td>\n",
       "    </tr>\n",
       "    <tr>\n",
       "      <th>2004-01-07</th>\n",
       "      <td>78.87716</td>\n",
       "    </tr>\n",
       "    <tr>\n",
       "      <th>2004-01-08</th>\n",
       "      <td>78.84478</td>\n",
       "    </tr>\n",
       "    <tr>\n",
       "      <th>2004-01-09</th>\n",
       "      <td>78.90775</td>\n",
       "    </tr>\n",
       "    <tr>\n",
       "      <th>2004-01-12</th>\n",
       "      <td>78.92975</td>\n",
       "    </tr>\n",
       "  </tbody>\n",
       "</table>\n",
       "</div>"
      ],
      "text/plain": [
       "                 USD\n",
       "Date                \n",
       "2004-01-06  79.01866\n",
       "2004-01-07  78.87716\n",
       "2004-01-08  78.84478\n",
       "2004-01-09  78.90775\n",
       "2004-01-12  78.92975"
      ]
     },
     "execution_count": 25,
     "metadata": {},
     "output_type": "execute_result"
    }
   ],
   "source": [
    "Angola_USA_merge_df.head()"
   ]
  },
  {
   "cell_type": "code",
   "execution_count": 26,
   "metadata": {},
   "outputs": [
    {
     "name": "stderr",
     "output_type": "stream",
     "text": [
      "C:\\Users\\damzking\\AppData\\Local\\Temp\\ipykernel_20784\\3081248523.py:1: FutureWarning: 'Y' is deprecated and will be removed in a future version, please use 'YE' instead.\n",
      "  Year_rate=Angola_USA_merge_df['USD'].sort_index(ascending=True).resample('Y').sum()\n"
     ]
    }
   ],
   "source": [
    "Year_rate=Angola_USA_merge_df['USD'].sort_index(ascending=True).resample('Y').sum()"
   ]
  },
  {
   "cell_type": "code",
   "execution_count": 27,
   "metadata": {},
   "outputs": [
    {
     "data": {
      "image/png": "[encoded data removed]",
      "text/plain": [
       "<Figure size 1500x200 with 1 Axes>"
      ]
     },
     "metadata": {},
     "output_type": "display_data"
    }
   ],
   "source": [
    "plt.figure(figsize=(15,2))\n",
    "sns.lineplot(data=Year_rate, linewidth=2.5, label='Yearly USD exchange rate')\n",
    "plt.xticks(rotation=25)\n",
    "plt.show()"
   ]
  },
  {
   "cell_type": "markdown",
   "metadata": {},
   "source": [
    "#### FOR EUROS CURRENCY"
   ]
  },
  {
   "cell_type": "code",
   "execution_count": 32,
   "metadata": {},
   "outputs": [
    {
     "name": "stdout",
     "output_type": "stream",
     "text": [
      "<class 'pandas.core.series.Series'>\n",
      "RangeIndex: 4825 entries, 0 to 4824\n",
      "Series name: Date_EUR\n",
      "Non-Null Count  Dtype \n",
      "--------------  ----- \n",
      "4764 non-null   object\n",
      "dtypes: object(1)\n",
      "memory usage: 37.8+ KB\n"
     ]
    }
   ],
   "source": [
    "EUR_Angola_df['Date_EUR'].info()"
   ]
  },
  {
   "cell_type": "code",
   "execution_count": 33,
   "metadata": {},
   "outputs": [
    {
     "name": "stderr",
     "output_type": "stream",
     "text": [
      "C:\\Users\\damzking\\AppData\\Local\\Temp\\ipykernel_20784\\3274660379.py:1: SettingWithCopyWarning: \n",
      "A value is trying to be set on a copy of a slice from a DataFrame.\n",
      "Try using .loc[row_indexer,col_indexer] = value instead\n",
      "\n",
      "See the caveats in the documentation: https://pandas.pydata.org/pandas-docs/stable/user_guide/indexing.html#returning-a-view-versus-a-copy\n",
      "  EUR_Angola_df['Date_EUR'] = pd.to_datetime(EUR_Angola_df['Date_EUR'])\n"
     ]
    }
   ],
   "source": [
    "EUR_Angola_df['Date_EUR'] = pd.to_datetime(EUR_Angola_df['Date_EUR'])"
   ]
  },
  {
   "cell_type": "code",
   "execution_count": 34,
   "metadata": {},
   "outputs": [],
   "source": [
    "# Create a complete date range from Jan 6, 2004, to Nov 30, 2023\n",
    "date_range = pd.date_range(start='2004-01-06', end='2023-11-30', freq='D')"
   ]
  },
  {
   "cell_type": "code",
   "execution_count": 35,
   "metadata": {},
   "outputs": [],
   "source": [
    "dates_df = pd.DataFrame(date_range, columns=['Date_EUR'])"
   ]
  },
  {
   "cell_type": "code",
   "execution_count": null,
   "metadata": {},
   "outputs": [
    {
     "name": "stdout",
     "output_type": "stream",
     "text": [
      "<class 'pandas.core.frame.DataFrame'>\n",
      "RangeIndex: 7269 entries, 0 to 7268\n",
      "Data columns (total 1 columns):\n",
      " #   Column    Non-Null Count  Dtype         \n",
      "---  ------    --------------  -----         \n",
      " 0   Date_EUR  7269 non-null   datetime64[ns]\n",
      "dtypes: datetime64[ns](1)\n",
      "memory usage: 56.9 KB\n"
     ]
    }
   ],
   "source": [
    "dates_df.info()"
   ]
  },
  {
   "cell_type": "code",
   "execution_count": null,
   "metadata": {},
   "outputs": [
    {
     "name": "stdout",
     "output_type": "stream",
     "text": [
      "<class 'pandas.core.frame.DataFrame'>\n",
      "RangeIndex: 4825 entries, 0 to 4824\n",
      "Data columns (total 2 columns):\n",
      " #   Column    Non-Null Count  Dtype         \n",
      "---  ------    --------------  -----         \n",
      " 0   Date_EUR  4764 non-null   datetime64[ns]\n",
      " 1   EUR       4760 non-null   float64       \n",
      "dtypes: datetime64[ns](1), float64(1)\n",
      "memory usage: 75.5 KB\n"
     ]
    }
   ],
   "source": [
    " EUR_Angola_df.info()"
   ]
  },
  {
   "cell_type": "code",
   "execution_count": 36,
   "metadata": {},
   "outputs": [],
   "source": [
    "Angola_EUR_merge_df = pd.merge(dates_df,  EUR_Angola_df, how='left', on= 'Date_EUR')"
   ]
  },
  {
   "cell_type": "markdown",
   "metadata": {},
   "source": [
    "### EXCLUDING WEEKENDS"
   ]
  },
  {
   "cell_type": "code",
   "execution_count": 37,
   "metadata": {},
   "outputs": [],
   "source": [
    "Angola_EUR_merge_df = Angola_EUR_merge_df[~Angola_EUR_merge_df['Date_EUR'].dt.weekday.isin([5, 6])]"
   ]
  },
  {
   "cell_type": "code",
   "execution_count": 38,
   "metadata": {},
   "outputs": [],
   "source": [
    "Angola_EUR_merge_df = Angola_EUR_merge_df.set_index('Date_EUR')"
   ]
  },
  {
   "cell_type": "code",
   "execution_count": 82,
   "metadata": {},
   "outputs": [
    {
     "data": {
      "text/html": [
       "<div>\n",
       "<style scoped>\n",
       "    .dataframe tbody tr th:only-of-type {\n",
       "        vertical-align: middle;\n",
       "    }\n",
       "\n",
       "    .dataframe tbody tr th {\n",
       "        vertical-align: top;\n",
       "    }\n",
       "\n",
       "    .dataframe thead th {\n",
       "        text-align: right;\n",
       "    }\n",
       "</style>\n",
       "<table border=\"1\" class=\"dataframe\">\n",
       "  <thead>\n",
       "    <tr style=\"text-align: right;\">\n",
       "      <th></th>\n",
       "      <th>EUR</th>\n",
       "    </tr>\n",
       "    <tr>\n",
       "      <th>Date_EUR</th>\n",
       "      <th></th>\n",
       "    </tr>\n",
       "  </thead>\n",
       "  <tbody>\n",
       "    <tr>\n",
       "      <th>2004-01-06</th>\n",
       "      <td>99.68994</td>\n",
       "    </tr>\n",
       "    <tr>\n",
       "      <th>2004-01-07</th>\n",
       "      <td>100.33175</td>\n",
       "    </tr>\n",
       "    <tr>\n",
       "      <th>2004-01-08</th>\n",
       "      <td>99.77018</td>\n",
       "    </tr>\n",
       "    <tr>\n",
       "      <th>2004-01-09</th>\n",
       "      <td>99.38431</td>\n",
       "    </tr>\n",
       "    <tr>\n",
       "      <th>2004-01-12</th>\n",
       "      <td>100.50125</td>\n",
       "    </tr>\n",
       "    <tr>\n",
       "      <th>...</th>\n",
       "      <td>...</td>\n",
       "    </tr>\n",
       "    <tr>\n",
       "      <th>2023-11-24</th>\n",
       "      <td>904.19700</td>\n",
       "    </tr>\n",
       "    <tr>\n",
       "      <th>2023-11-27</th>\n",
       "      <td>906.76300</td>\n",
       "    </tr>\n",
       "    <tr>\n",
       "      <th>2023-11-28</th>\n",
       "      <td>907.26100</td>\n",
       "    </tr>\n",
       "    <tr>\n",
       "      <th>2023-11-29</th>\n",
       "      <td>909.16500</td>\n",
       "    </tr>\n",
       "    <tr>\n",
       "      <th>2023-11-30</th>\n",
       "      <td>903.95000</td>\n",
       "    </tr>\n",
       "  </tbody>\n",
       "</table>\n",
       "<p>5193 rows × 1 columns</p>\n",
       "</div>"
      ],
      "text/plain": [
       "                  EUR\n",
       "Date_EUR             \n",
       "2004-01-06   99.68994\n",
       "2004-01-07  100.33175\n",
       "2004-01-08   99.77018\n",
       "2004-01-09   99.38431\n",
       "2004-01-12  100.50125\n",
       "...               ...\n",
       "2023-11-24  904.19700\n",
       "2023-11-27  906.76300\n",
       "2023-11-28  907.26100\n",
       "2023-11-29  909.16500\n",
       "2023-11-30  903.95000\n",
       "\n",
       "[5193 rows x 1 columns]"
      ]
     },
     "execution_count": 82,
     "metadata": {},
     "output_type": "execute_result"
    }
   ],
   "source": [
    "Angola_EUR_merge_df"
   ]
  },
  {
   "cell_type": "code",
   "execution_count": 39,
   "metadata": {},
   "outputs": [
    {
     "name": "stdout",
     "output_type": "stream",
     "text": [
      " There are 444 missing Euros exchange rate during the weekdays\n"
     ]
    }
   ],
   "source": [
    "print(f\" There are {Angola_EUR_merge_df['EUR'].isna().sum()} missing Euros exchange rate during the weekdays\")"
   ]
  },
  {
   "cell_type": "code",
   "execution_count": 40,
   "metadata": {},
   "outputs": [],
   "source": [
    "# Perform forward fill and assign it back to the original column\n",
    "Angola_EUR_merge_df['EUR'] = Angola_EUR_merge_df['EUR'].ffill()"
   ]
  },
  {
   "cell_type": "code",
   "execution_count": 41,
   "metadata": {},
   "outputs": [
    {
     "data": {
      "text/html": [
       "<div>\n",
       "<style scoped>\n",
       "    .dataframe tbody tr th:only-of-type {\n",
       "        vertical-align: middle;\n",
       "    }\n",
       "\n",
       "    .dataframe tbody tr th {\n",
       "        vertical-align: top;\n",
       "    }\n",
       "\n",
       "    .dataframe thead th {\n",
       "        text-align: right;\n",
       "    }\n",
       "</style>\n",
       "<table border=\"1\" class=\"dataframe\">\n",
       "  <thead>\n",
       "    <tr style=\"text-align: right;\">\n",
       "      <th></th>\n",
       "      <th>EUR</th>\n",
       "    </tr>\n",
       "    <tr>\n",
       "      <th>Date_EUR</th>\n",
       "      <th></th>\n",
       "    </tr>\n",
       "  </thead>\n",
       "  <tbody>\n",
       "    <tr>\n",
       "      <th>2004-01-06</th>\n",
       "      <td>99.68994</td>\n",
       "    </tr>\n",
       "    <tr>\n",
       "      <th>2004-01-07</th>\n",
       "      <td>100.33175</td>\n",
       "    </tr>\n",
       "    <tr>\n",
       "      <th>2004-01-08</th>\n",
       "      <td>99.77018</td>\n",
       "    </tr>\n",
       "    <tr>\n",
       "      <th>2004-01-09</th>\n",
       "      <td>99.38431</td>\n",
       "    </tr>\n",
       "    <tr>\n",
       "      <th>2004-01-12</th>\n",
       "      <td>100.50125</td>\n",
       "    </tr>\n",
       "  </tbody>\n",
       "</table>\n",
       "</div>"
      ],
      "text/plain": [
       "                  EUR\n",
       "Date_EUR             \n",
       "2004-01-06   99.68994\n",
       "2004-01-07  100.33175\n",
       "2004-01-08   99.77018\n",
       "2004-01-09   99.38431\n",
       "2004-01-12  100.50125"
      ]
     },
     "execution_count": 41,
     "metadata": {},
     "output_type": "execute_result"
    }
   ],
   "source": [
    "Angola_EUR_merge_df.head()"
   ]
  },
  {
   "cell_type": "markdown",
   "metadata": {},
   "source": [
    "#### FOR POUNDS CURRENCY"
   ]
  },
  {
   "cell_type": "code",
   "execution_count": 42,
   "metadata": {},
   "outputs": [
    {
     "name": "stdout",
     "output_type": "stream",
     "text": [
      "<class 'pandas.core.series.Series'>\n",
      "RangeIndex: 4825 entries, 0 to 4824\n",
      "Series name: Date_GBP\n",
      "Non-Null Count  Dtype \n",
      "--------------  ----- \n",
      "4760 non-null   object\n",
      "dtypes: object(1)\n",
      "memory usage: 37.8+ KB\n"
     ]
    }
   ],
   "source": [
    "GBP_Angola_df['Date_GBP'].info()"
   ]
  },
  {
   "cell_type": "code",
   "execution_count": 43,
   "metadata": {},
   "outputs": [
    {
     "name": "stderr",
     "output_type": "stream",
     "text": [
      "C:\\Users\\damzking\\AppData\\Local\\Temp\\ipykernel_20784\\2325360629.py:1: SettingWithCopyWarning: \n",
      "A value is trying to be set on a copy of a slice from a DataFrame.\n",
      "Try using .loc[row_indexer,col_indexer] = value instead\n",
      "\n",
      "See the caveats in the documentation: https://pandas.pydata.org/pandas-docs/stable/user_guide/indexing.html#returning-a-view-versus-a-copy\n",
      "  GBP_Angola_df['Date_GBP'] = pd.to_datetime(GBP_Angola_df['Date_GBP'])\n"
     ]
    }
   ],
   "source": [
    "GBP_Angola_df['Date_GBP'] = pd.to_datetime(GBP_Angola_df['Date_GBP'])"
   ]
  },
  {
   "cell_type": "code",
   "execution_count": 44,
   "metadata": {},
   "outputs": [],
   "source": [
    "# Create a complete date range from Jan 6, 2004, to Nov 30, 2023\n",
    "date_range = pd.date_range(start='2004-01-06', end='2023-11-30', freq='D')"
   ]
  },
  {
   "cell_type": "code",
   "execution_count": 45,
   "metadata": {},
   "outputs": [],
   "source": [
    "dates_df = pd.DataFrame(date_range, columns=['Date_GBP'])"
   ]
  },
  {
   "cell_type": "code",
   "execution_count": 46,
   "metadata": {},
   "outputs": [
    {
     "name": "stdout",
     "output_type": "stream",
     "text": [
      "<class 'pandas.core.frame.DataFrame'>\n",
      "RangeIndex: 4825 entries, 0 to 4824\n",
      "Data columns (total 2 columns):\n",
      " #   Column    Non-Null Count  Dtype         \n",
      "---  ------    --------------  -----         \n",
      " 0   Date_GBP  4760 non-null   datetime64[ns]\n",
      " 1   GBP       4756 non-null   float64       \n",
      "dtypes: datetime64[ns](1), float64(1)\n",
      "memory usage: 75.5 KB\n"
     ]
    }
   ],
   "source": [
    "GBP_Angola_df.info()"
   ]
  },
  {
   "cell_type": "code",
   "execution_count": 47,
   "metadata": {},
   "outputs": [],
   "source": [
    "Angola_GBP_merge_df = pd.merge(dates_df, GBP_Angola_df, how='left', on= 'Date_GBP')"
   ]
  },
  {
   "cell_type": "markdown",
   "metadata": {},
   "source": [
    "### Excluding  Weekends "
   ]
  },
  {
   "cell_type": "code",
   "execution_count": 48,
   "metadata": {},
   "outputs": [],
   "source": [
    "Angola_GBP_merge_df = Angola_GBP_merge_df[~Angola_GBP_merge_df['Date_GBP'].dt.weekday.isin([5, 6])]"
   ]
  },
  {
   "cell_type": "code",
   "execution_count": 49,
   "metadata": {},
   "outputs": [],
   "source": [
    "Angola_GBP_merge_df = Angola_GBP_merge_df.set_index('Date_GBP')"
   ]
  },
  {
   "cell_type": "code",
   "execution_count": 50,
   "metadata": {},
   "outputs": [
    {
     "name": "stdout",
     "output_type": "stream",
     "text": [
      " There are 448 missing Pounds exchange rate during the weekdays\n"
     ]
    }
   ],
   "source": [
    "print(f\" There are {Angola_GBP_merge_df['GBP'].isna().sum()} missing Pounds exchange rate during the weekdays\")"
   ]
  },
  {
   "cell_type": "code",
   "execution_count": 51,
   "metadata": {},
   "outputs": [],
   "source": [
    "# Perform forward fill and assign it back to the original column\n",
    "Angola_GBP_merge_df['GBP'] = Angola_GBP_merge_df['GBP'].ffill()\n"
   ]
  },
  {
   "cell_type": "code",
   "execution_count": 52,
   "metadata": {},
   "outputs": [
    {
     "data": {
      "text/html": [
       "<div>\n",
       "<style scoped>\n",
       "    .dataframe tbody tr th:only-of-type {\n",
       "        vertical-align: middle;\n",
       "    }\n",
       "\n",
       "    .dataframe tbody tr th {\n",
       "        vertical-align: top;\n",
       "    }\n",
       "\n",
       "    .dataframe thead th {\n",
       "        text-align: right;\n",
       "    }\n",
       "</style>\n",
       "<table border=\"1\" class=\"dataframe\">\n",
       "  <thead>\n",
       "    <tr style=\"text-align: right;\">\n",
       "      <th></th>\n",
       "      <th>GBP</th>\n",
       "    </tr>\n",
       "    <tr>\n",
       "      <th>Date_GBP</th>\n",
       "      <th></th>\n",
       "    </tr>\n",
       "  </thead>\n",
       "  <tbody>\n",
       "    <tr>\n",
       "      <th>2004-01-06</th>\n",
       "      <td>140.84286</td>\n",
       "    </tr>\n",
       "    <tr>\n",
       "      <th>2004-01-07</th>\n",
       "      <td>143.36713</td>\n",
       "    </tr>\n",
       "    <tr>\n",
       "      <th>2004-01-08</th>\n",
       "      <td>143.09539</td>\n",
       "    </tr>\n",
       "    <tr>\n",
       "      <th>2004-01-09</th>\n",
       "      <td>143.27280</td>\n",
       "    </tr>\n",
       "    <tr>\n",
       "      <th>2004-01-12</th>\n",
       "      <td>144.73348</td>\n",
       "    </tr>\n",
       "  </tbody>\n",
       "</table>\n",
       "</div>"
      ],
      "text/plain": [
       "                  GBP\n",
       "Date_GBP             \n",
       "2004-01-06  140.84286\n",
       "2004-01-07  143.36713\n",
       "2004-01-08  143.09539\n",
       "2004-01-09  143.27280\n",
       "2004-01-12  144.73348"
      ]
     },
     "execution_count": 52,
     "metadata": {},
     "output_type": "execute_result"
    }
   ],
   "source": [
    "Angola_GBP_merge_df.head()"
   ]
  },
  {
   "cell_type": "code",
   "execution_count": 55,
   "metadata": {},
   "outputs": [
    {
     "data": {
      "text/html": [
       "<div>\n",
       "<style scoped>\n",
       "    .dataframe tbody tr th:only-of-type {\n",
       "        vertical-align: middle;\n",
       "    }\n",
       "\n",
       "    .dataframe tbody tr th {\n",
       "        vertical-align: top;\n",
       "    }\n",
       "\n",
       "    .dataframe thead th {\n",
       "        text-align: right;\n",
       "    }\n",
       "</style>\n",
       "<table border=\"1\" class=\"dataframe\">\n",
       "  <thead>\n",
       "    <tr style=\"text-align: right;\">\n",
       "      <th></th>\n",
       "      <th>Date</th>\n",
       "      <th>USD</th>\n",
       "    </tr>\n",
       "  </thead>\n",
       "  <tbody>\n",
       "    <tr>\n",
       "      <th>0</th>\n",
       "      <td>2004-01-06</td>\n",
       "      <td>79.01866</td>\n",
       "    </tr>\n",
       "    <tr>\n",
       "      <th>1</th>\n",
       "      <td>2004-01-07</td>\n",
       "      <td>78.87716</td>\n",
       "    </tr>\n",
       "    <tr>\n",
       "      <th>2</th>\n",
       "      <td>2004-01-08</td>\n",
       "      <td>78.84478</td>\n",
       "    </tr>\n",
       "    <tr>\n",
       "      <th>3</th>\n",
       "      <td>2004-01-09</td>\n",
       "      <td>78.90775</td>\n",
       "    </tr>\n",
       "    <tr>\n",
       "      <th>4</th>\n",
       "      <td>2004-01-12</td>\n",
       "      <td>78.92975</td>\n",
       "    </tr>\n",
       "  </tbody>\n",
       "</table>\n",
       "</div>"
      ],
      "text/plain": [
       "        Date       USD\n",
       "0 2004-01-06  79.01866\n",
       "1 2004-01-07  78.87716\n",
       "2 2004-01-08  78.84478\n",
       "3 2004-01-09  78.90775\n",
       "4 2004-01-12  78.92975"
      ]
     },
     "execution_count": 55,
     "metadata": {},
     "output_type": "execute_result"
    }
   ],
   "source": [
    "USD_Angola_df.head()"
   ]
  },
  {
   "cell_type": "code",
   "execution_count": 56,
   "metadata": {},
   "outputs": [
    {
     "data": {
      "text/html": [
       "<div>\n",
       "<style scoped>\n",
       "    .dataframe tbody tr th:only-of-type {\n",
       "        vertical-align: middle;\n",
       "    }\n",
       "\n",
       "    .dataframe tbody tr th {\n",
       "        vertical-align: top;\n",
       "    }\n",
       "\n",
       "    .dataframe thead th {\n",
       "        text-align: right;\n",
       "    }\n",
       "</style>\n",
       "<table border=\"1\" class=\"dataframe\">\n",
       "  <thead>\n",
       "    <tr style=\"text-align: right;\">\n",
       "      <th></th>\n",
       "      <th>Date_EUR</th>\n",
       "      <th>EUR</th>\n",
       "    </tr>\n",
       "  </thead>\n",
       "  <tbody>\n",
       "    <tr>\n",
       "      <th>0</th>\n",
       "      <td>2004-01-06</td>\n",
       "      <td>99.68994</td>\n",
       "    </tr>\n",
       "    <tr>\n",
       "      <th>1</th>\n",
       "      <td>2004-01-07</td>\n",
       "      <td>100.33175</td>\n",
       "    </tr>\n",
       "    <tr>\n",
       "      <th>2</th>\n",
       "      <td>2004-01-08</td>\n",
       "      <td>99.77018</td>\n",
       "    </tr>\n",
       "    <tr>\n",
       "      <th>3</th>\n",
       "      <td>2004-01-09</td>\n",
       "      <td>99.38431</td>\n",
       "    </tr>\n",
       "    <tr>\n",
       "      <th>4</th>\n",
       "      <td>2004-01-12</td>\n",
       "      <td>100.50125</td>\n",
       "    </tr>\n",
       "    <tr>\n",
       "      <th>...</th>\n",
       "      <td>...</td>\n",
       "      <td>...</td>\n",
       "    </tr>\n",
       "    <tr>\n",
       "      <th>4820</th>\n",
       "      <td>NaT</td>\n",
       "      <td>NaN</td>\n",
       "    </tr>\n",
       "    <tr>\n",
       "      <th>4821</th>\n",
       "      <td>NaT</td>\n",
       "      <td>NaN</td>\n",
       "    </tr>\n",
       "    <tr>\n",
       "      <th>4822</th>\n",
       "      <td>NaT</td>\n",
       "      <td>NaN</td>\n",
       "    </tr>\n",
       "    <tr>\n",
       "      <th>4823</th>\n",
       "      <td>NaT</td>\n",
       "      <td>NaN</td>\n",
       "    </tr>\n",
       "    <tr>\n",
       "      <th>4824</th>\n",
       "      <td>NaT</td>\n",
       "      <td>NaN</td>\n",
       "    </tr>\n",
       "  </tbody>\n",
       "</table>\n",
       "<p>4825 rows × 2 columns</p>\n",
       "</div>"
      ],
      "text/plain": [
       "       Date_EUR        EUR\n",
       "0    2004-01-06   99.68994\n",
       "1    2004-01-07  100.33175\n",
       "2    2004-01-08   99.77018\n",
       "3    2004-01-09   99.38431\n",
       "4    2004-01-12  100.50125\n",
       "...         ...        ...\n",
       "4820        NaT        NaN\n",
       "4821        NaT        NaN\n",
       "4822        NaT        NaN\n",
       "4823        NaT        NaN\n",
       "4824        NaT        NaN\n",
       "\n",
       "[4825 rows x 2 columns]"
      ]
     },
     "execution_count": 56,
     "metadata": {},
     "output_type": "execute_result"
    }
   ],
   "source": [
    "EUR_Angola_df"
   ]
  },
  {
   "cell_type": "markdown",
   "metadata": {},
   "source": [
    "### SCATTER  PLOTS AGAINST USD VS POUND  AND EUROS RESPECTIVELY"
   ]
  },
  {
   "cell_type": "code",
   "execution_count": null,
   "metadata": {},
   "outputs": [],
   "source": []
  },
  {
   "cell_type": "code",
   "execution_count": 57,
   "metadata": {},
   "outputs": [
    {
     "name": "stderr",
     "output_type": "stream",
     "text": [
      "C:\\Users\\damzking\\AppData\\Local\\Temp\\ipykernel_20784\\199200647.py:1: SettingWithCopyWarning: \n",
      "A value is trying to be set on a copy of a slice from a DataFrame\n",
      "\n",
      "See the caveats in the documentation: https://pandas.pydata.org/pandas-docs/stable/user_guide/indexing.html#returning-a-view-versus-a-copy\n",
      "  EUR_Angola_df.rename(columns={'Date_EUR': 'Date'}, inplace=True)\n"
     ]
    }
   ],
   "source": [
    "EUR_Angola_df.rename(columns={'Date_EUR': 'Date'}, inplace=True)\n"
   ]
  },
  {
   "cell_type": "code",
   "execution_count": 65,
   "metadata": {},
   "outputs": [],
   "source": [
    "# Merge the two DataFrames on 'Date' using an inner join\n",
    "usd_eur = pd.merge(USD_Angola_df, EUR_Angola_df, how='inner', on='Date')\n"
   ]
  },
  {
   "cell_type": "code",
   "execution_count": 67,
   "metadata": {},
   "outputs": [
    {
     "data": {
      "text/html": [
       "<div>\n",
       "<style scoped>\n",
       "    .dataframe tbody tr th:only-of-type {\n",
       "        vertical-align: middle;\n",
       "    }\n",
       "\n",
       "    .dataframe tbody tr th {\n",
       "        vertical-align: top;\n",
       "    }\n",
       "\n",
       "    .dataframe thead th {\n",
       "        text-align: right;\n",
       "    }\n",
       "</style>\n",
       "<table border=\"1\" class=\"dataframe\">\n",
       "  <thead>\n",
       "    <tr style=\"text-align: right;\">\n",
       "      <th></th>\n",
       "      <th>Date_GBP</th>\n",
       "      <th>GBP</th>\n",
       "    </tr>\n",
       "  </thead>\n",
       "  <tbody>\n",
       "    <tr>\n",
       "      <th>0</th>\n",
       "      <td>2004-01-06</td>\n",
       "      <td>140.84286</td>\n",
       "    </tr>\n",
       "    <tr>\n",
       "      <th>1</th>\n",
       "      <td>2004-01-07</td>\n",
       "      <td>143.36713</td>\n",
       "    </tr>\n",
       "    <tr>\n",
       "      <th>2</th>\n",
       "      <td>2004-01-08</td>\n",
       "      <td>143.09539</td>\n",
       "    </tr>\n",
       "    <tr>\n",
       "      <th>3</th>\n",
       "      <td>2004-01-09</td>\n",
       "      <td>143.27280</td>\n",
       "    </tr>\n",
       "    <tr>\n",
       "      <th>4</th>\n",
       "      <td>2004-01-12</td>\n",
       "      <td>144.73348</td>\n",
       "    </tr>\n",
       "  </tbody>\n",
       "</table>\n",
       "</div>"
      ],
      "text/plain": [
       "    Date_GBP        GBP\n",
       "0 2004-01-06  140.84286\n",
       "1 2004-01-07  143.36713\n",
       "2 2004-01-08  143.09539\n",
       "3 2004-01-09  143.27280\n",
       "4 2004-01-12  144.73348"
      ]
     },
     "execution_count": 67,
     "metadata": {},
     "output_type": "execute_result"
    }
   ],
   "source": [
    "GBP_Angola_df.head()"
   ]
  },
  {
   "cell_type": "code",
   "execution_count": 68,
   "metadata": {},
   "outputs": [
    {
     "name": "stderr",
     "output_type": "stream",
     "text": [
      "C:\\Users\\damzking\\AppData\\Local\\Temp\\ipykernel_20784\\2665841180.py:1: SettingWithCopyWarning: \n",
      "A value is trying to be set on a copy of a slice from a DataFrame\n",
      "\n",
      "See the caveats in the documentation: https://pandas.pydata.org/pandas-docs/stable/user_guide/indexing.html#returning-a-view-versus-a-copy\n",
      "  GBP_Angola_df.rename(columns={'Date_GBP': 'Date'}, inplace=True)\n"
     ]
    }
   ],
   "source": [
    "GBP_Angola_df.rename(columns={'Date_GBP': 'Date'}, inplace=True)"
   ]
  },
  {
   "cell_type": "code",
   "execution_count": 72,
   "metadata": {},
   "outputs": [],
   "source": [
    "usd_eur=pd.merge(usd_eur,GBP_Angola_df,how='inner',on='Date')"
   ]
  },
  {
   "cell_type": "code",
   "execution_count": 89,
   "metadata": {},
   "outputs": [
    {
     "data": {
      "text/html": [
       "<div>\n",
       "<style scoped>\n",
       "    .dataframe tbody tr th:only-of-type {\n",
       "        vertical-align: middle;\n",
       "    }\n",
       "\n",
       "    .dataframe tbody tr th {\n",
       "        vertical-align: top;\n",
       "    }\n",
       "\n",
       "    .dataframe thead th {\n",
       "        text-align: right;\n",
       "    }\n",
       "</style>\n",
       "<table border=\"1\" class=\"dataframe\">\n",
       "  <thead>\n",
       "    <tr style=\"text-align: right;\">\n",
       "      <th></th>\n",
       "      <th>Date</th>\n",
       "      <th>USD</th>\n",
       "      <th>EUR</th>\n",
       "      <th>GBP</th>\n",
       "    </tr>\n",
       "  </thead>\n",
       "  <tbody>\n",
       "    <tr>\n",
       "      <th>0</th>\n",
       "      <td>2004-01-06</td>\n",
       "      <td>79.01866</td>\n",
       "      <td>99.68994</td>\n",
       "      <td>140.84286</td>\n",
       "    </tr>\n",
       "    <tr>\n",
       "      <th>1</th>\n",
       "      <td>2004-01-07</td>\n",
       "      <td>78.87716</td>\n",
       "      <td>100.33175</td>\n",
       "      <td>143.36713</td>\n",
       "    </tr>\n",
       "    <tr>\n",
       "      <th>2</th>\n",
       "      <td>2004-01-08</td>\n",
       "      <td>78.84478</td>\n",
       "      <td>99.77018</td>\n",
       "      <td>143.09539</td>\n",
       "    </tr>\n",
       "    <tr>\n",
       "      <th>3</th>\n",
       "      <td>2004-01-09</td>\n",
       "      <td>78.90775</td>\n",
       "      <td>99.38431</td>\n",
       "      <td>143.27280</td>\n",
       "    </tr>\n",
       "    <tr>\n",
       "      <th>4</th>\n",
       "      <td>2004-01-12</td>\n",
       "      <td>78.92975</td>\n",
       "      <td>100.50125</td>\n",
       "      <td>144.73348</td>\n",
       "    </tr>\n",
       "  </tbody>\n",
       "</table>\n",
       "</div>"
      ],
      "text/plain": [
       "        Date       USD        EUR        GBP\n",
       "0 2004-01-06  79.01866   99.68994  140.84286\n",
       "1 2004-01-07  78.87716  100.33175  143.36713\n",
       "2 2004-01-08  78.84478   99.77018  143.09539\n",
       "3 2004-01-09  78.90775   99.38431  143.27280\n",
       "4 2004-01-12  78.92975  100.50125  144.73348"
      ]
     },
     "execution_count": 89,
     "metadata": {},
     "output_type": "execute_result"
    }
   ],
   "source": [
    "usd_eur.head()"
   ]
  },
  {
   "cell_type": "code",
   "execution_count": 64,
   "metadata": {},
   "outputs": [
    {
     "data": {
      "image/png": "[encoded data removed]",
      "text/plain": [
       "<Figure size 640x480 with 1 Axes>"
      ]
     },
     "metadata": {},
     "output_type": "display_data"
    }
   ],
   "source": [
    "\n",
    "# Create a scatter plot\n",
    "plt.scatter(usd_eur['USD'], usd_eur['EUR'])\n",
    "plt.xlabel('USD')\n",
    "plt.ylabel('EUR')\n",
    "plt.title('Scatter plot of USD vs EUR')\n",
    "plt.show()\n"
   ]
  },
  {
   "cell_type": "code",
   "execution_count": 73,
   "metadata": {},
   "outputs": [
    {
     "data": {
      "image/png": "[encoded data removed]",
      "text/plain": [
       "<Figure size 640x480 with 1 Axes>"
      ]
     },
     "metadata": {},
     "output_type": "display_data"
    }
   ],
   "source": [
    "# Create a scatter plot\n",
    "plt.scatter(usd_eur['USD'], usd_eur['GBP'])\n",
    "plt.xlabel('USD')\n",
    "plt.ylabel('GBP')\n",
    "plt.title('Scatter plot of USD vs GBP')\n",
    "plt.show()"
   ]
  },
  {
   "cell_type": "code",
   "execution_count": 83,
   "metadata": {},
   "outputs": [
    {
     "data": {
      "image/png": "[encoded data removed]",
      "text/plain": [
       "<Figure size 640x480 with 1 Axes>"
      ]
     },
     "metadata": {},
     "output_type": "display_data"
    }
   ],
   "source": [
    "# Assuming 'usd_eur' is your DataFrame with 'USD' column\n",
    "plt.scatter(usd_eur['USD'], [0] * len(usd_eur['USD']))\n",
    "plt.xlabel('USD')\n",
    "plt.ylabel('Constant Value')\n",
    "plt.title('Distribution of USD Values')\n",
    "plt.show()"
   ]
  },
  {
   "cell_type": "code",
   "execution_count": 87,
   "metadata": {},
   "outputs": [
    {
     "data": {
      "image/png": "[encoded data removed]",
      "text/plain": [
       "<Figure size 640x480 with 1 Axes>"
      ]
     },
     "metadata": {},
     "output_type": "display_data"
    }
   ],
   "source": [
    "# Plot the data\n",
    "plt.scatter(usd_eur.index, usd_eur['USD'])  # Using the index for x-axis, USD values for y-axis\n",
    "plt.title('USD')\n",
    "plt.xlabel('Index')  # You can replace this with a specific column if you have dates\n",
    "plt.ylabel('USD')\n",
    "\n",
    "# Show the plot\n",
    "plt.show()"
   ]
  }
 ],
 "metadata": {
  "kernelspec": {
   "display_name": "venv",
   "language": "python",
   "name": "python3"
  },
  "language_info": {
   "codemirror_mode": {
    "name": "ipython",
    "version": 3
   },
   "file_extension": ".py",
   "mimetype": "text/x-python",
   "name": "python",
   "nbconvert_exporter": "python",
   "pygments_lexer": "ipython3",
   "version": "3.10.9"
  }
 },
 "nbformat": 4,
 "nbformat_minor": 2
}
