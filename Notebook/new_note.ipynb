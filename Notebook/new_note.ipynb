{
 "cells": [
  {
   "cell_type": "code",
   "execution_count": 129,
   "metadata": {},
   "outputs": [],
   "source": [
    "import pandas as pd\n",
    "import numpy as np\n",
    "import matplotlib.pyplot as plt"
   ]
  },
  {
   "cell_type": "code",
   "execution_count": 130,
   "metadata": {},
   "outputs": [],
   "source": [
    "Angola_df = pd.read_csv('../Dataset/ANGOLA.csv')"
   ]
  },
  {
   "cell_type": "code",
   "execution_count": 131,
   "metadata": {},
   "outputs": [
    {
     "data": {
      "text/html": [
       "<div>\n",
       "<style scoped>\n",
       "    .dataframe tbody tr th:only-of-type {\n",
       "        vertical-align: middle;\n",
       "    }\n",
       "\n",
       "    .dataframe tbody tr th {\n",
       "        vertical-align: top;\n",
       "    }\n",
       "\n",
       "    .dataframe thead th {\n",
       "        text-align: right;\n",
       "    }\n",
       "</style>\n",
       "<table border=\"1\" class=\"dataframe\">\n",
       "  <thead>\n",
       "    <tr style=\"text-align: right;\">\n",
       "      <th></th>\n",
       "      <th>Date</th>\n",
       "      <th>USD</th>\n",
       "      <th>Unnamed: 2</th>\n",
       "      <th>Date.1</th>\n",
       "      <th>GBP</th>\n",
       "      <th>Unnamed: 5</th>\n",
       "      <th>Date.2</th>\n",
       "      <th>EUR</th>\n",
       "    </tr>\n",
       "  </thead>\n",
       "  <tbody>\n",
       "    <tr>\n",
       "      <th>0</th>\n",
       "      <td>6 Jan 2004</td>\n",
       "      <td>79.01866</td>\n",
       "      <td>NaN</td>\n",
       "      <td>6 Jan 2004</td>\n",
       "      <td>140.84286</td>\n",
       "      <td>NaN</td>\n",
       "      <td>6 Jan 2004</td>\n",
       "      <td>99.68994</td>\n",
       "    </tr>\n",
       "    <tr>\n",
       "      <th>1</th>\n",
       "      <td>7 Jan 2004</td>\n",
       "      <td>78.87716</td>\n",
       "      <td>NaN</td>\n",
       "      <td>7 Jan 2004</td>\n",
       "      <td>143.36713</td>\n",
       "      <td>NaN</td>\n",
       "      <td>7 Jan 2004</td>\n",
       "      <td>100.33175</td>\n",
       "    </tr>\n",
       "    <tr>\n",
       "      <th>2</th>\n",
       "      <td>8 Jan 2004</td>\n",
       "      <td>78.84478</td>\n",
       "      <td>NaN</td>\n",
       "      <td>8 Jan 2004</td>\n",
       "      <td>143.09539</td>\n",
       "      <td>NaN</td>\n",
       "      <td>8 Jan 2004</td>\n",
       "      <td>99.77018</td>\n",
       "    </tr>\n",
       "    <tr>\n",
       "      <th>3</th>\n",
       "      <td>9 Jan 2004</td>\n",
       "      <td>78.90775</td>\n",
       "      <td>NaN</td>\n",
       "      <td>9 Jan 2004</td>\n",
       "      <td>143.27280</td>\n",
       "      <td>NaN</td>\n",
       "      <td>9 Jan 2004</td>\n",
       "      <td>99.38431</td>\n",
       "    </tr>\n",
       "    <tr>\n",
       "      <th>4</th>\n",
       "      <td>12 Jan 2004</td>\n",
       "      <td>78.92975</td>\n",
       "      <td>NaN</td>\n",
       "      <td>12 Jan 2004</td>\n",
       "      <td>144.73348</td>\n",
       "      <td>NaN</td>\n",
       "      <td>12 Jan 2004</td>\n",
       "      <td>100.50125</td>\n",
       "    </tr>\n",
       "  </tbody>\n",
       "</table>\n",
       "</div>"
      ],
      "text/plain": [
       "          Date       USD  Unnamed: 2       Date.1        GBP  Unnamed: 5  \\\n",
       "0   6 Jan 2004  79.01866         NaN   6 Jan 2004  140.84286         NaN   \n",
       "1   7 Jan 2004  78.87716         NaN   7 Jan 2004  143.36713         NaN   \n",
       "2   8 Jan 2004  78.84478         NaN   8 Jan 2004  143.09539         NaN   \n",
       "3   9 Jan 2004  78.90775         NaN   9 Jan 2004  143.27280         NaN   \n",
       "4  12 Jan 2004  78.92975         NaN  12 Jan 2004  144.73348         NaN   \n",
       "\n",
       "        Date.2        EUR  \n",
       "0   6 Jan 2004   99.68994  \n",
       "1   7 Jan 2004  100.33175  \n",
       "2   8 Jan 2004   99.77018  \n",
       "3   9 Jan 2004   99.38431  \n",
       "4  12 Jan 2004  100.50125  "
      ]
     },
     "execution_count": 131,
     "metadata": {},
     "output_type": "execute_result"
    }
   ],
   "source": [
    "Angola_df.head()"
   ]
  },
  {
   "cell_type": "code",
   "execution_count": 132,
   "metadata": {},
   "outputs": [
    {
     "name": "stdout",
     "output_type": "stream",
     "text": [
      "<class 'pandas.core.frame.DataFrame'>\n",
      "RangeIndex: 4825 entries, 0 to 4824\n",
      "Data columns (total 8 columns):\n",
      " #   Column      Non-Null Count  Dtype  \n",
      "---  ------      --------------  -----  \n",
      " 0   Date        4825 non-null   object \n",
      " 1   USD         4823 non-null   float64\n",
      " 2   Unnamed: 2  0 non-null      float64\n",
      " 3   Date.1      4760 non-null   object \n",
      " 4   GBP         4756 non-null   float64\n",
      " 5   Unnamed: 5  0 non-null      float64\n",
      " 6   Date.2      4764 non-null   object \n",
      " 7   EUR         4760 non-null   float64\n",
      "dtypes: float64(5), object(3)\n",
      "memory usage: 301.7+ KB\n"
     ]
    }
   ],
   "source": [
    "Angola_df.info()"
   ]
  },
  {
   "cell_type": "code",
   "execution_count": 133,
   "metadata": {},
   "outputs": [],
   "source": [
    "Angola_df= Angola_df.drop(columns=['Unnamed: 5','Unnamed: 2', 'Date.1', 'Date.2'], axis = 1)"
   ]
  },
  {
   "cell_type": "code",
   "execution_count": 134,
   "metadata": {},
   "outputs": [
    {
     "data": {
      "text/html": [
       "<div>\n",
       "<style scoped>\n",
       "    .dataframe tbody tr th:only-of-type {\n",
       "        vertical-align: middle;\n",
       "    }\n",
       "\n",
       "    .dataframe tbody tr th {\n",
       "        vertical-align: top;\n",
       "    }\n",
       "\n",
       "    .dataframe thead th {\n",
       "        text-align: right;\n",
       "    }\n",
       "</style>\n",
       "<table border=\"1\" class=\"dataframe\">\n",
       "  <thead>\n",
       "    <tr style=\"text-align: right;\">\n",
       "      <th></th>\n",
       "      <th>Date</th>\n",
       "      <th>USD</th>\n",
       "      <th>GBP</th>\n",
       "      <th>EUR</th>\n",
       "    </tr>\n",
       "  </thead>\n",
       "  <tbody>\n",
       "    <tr>\n",
       "      <th>0</th>\n",
       "      <td>6 Jan 2004</td>\n",
       "      <td>79.01866</td>\n",
       "      <td>140.84286</td>\n",
       "      <td>99.68994</td>\n",
       "    </tr>\n",
       "    <tr>\n",
       "      <th>1</th>\n",
       "      <td>7 Jan 2004</td>\n",
       "      <td>78.87716</td>\n",
       "      <td>143.36713</td>\n",
       "      <td>100.33175</td>\n",
       "    </tr>\n",
       "    <tr>\n",
       "      <th>2</th>\n",
       "      <td>8 Jan 2004</td>\n",
       "      <td>78.84478</td>\n",
       "      <td>143.09539</td>\n",
       "      <td>99.77018</td>\n",
       "    </tr>\n",
       "    <tr>\n",
       "      <th>3</th>\n",
       "      <td>9 Jan 2004</td>\n",
       "      <td>78.90775</td>\n",
       "      <td>143.27280</td>\n",
       "      <td>99.38431</td>\n",
       "    </tr>\n",
       "    <tr>\n",
       "      <th>4</th>\n",
       "      <td>12 Jan 2004</td>\n",
       "      <td>78.92975</td>\n",
       "      <td>144.73348</td>\n",
       "      <td>100.50125</td>\n",
       "    </tr>\n",
       "  </tbody>\n",
       "</table>\n",
       "</div>"
      ],
      "text/plain": [
       "          Date       USD        GBP        EUR\n",
       "0   6 Jan 2004  79.01866  140.84286   99.68994\n",
       "1   7 Jan 2004  78.87716  143.36713  100.33175\n",
       "2   8 Jan 2004  78.84478  143.09539   99.77018\n",
       "3   9 Jan 2004  78.90775  143.27280   99.38431\n",
       "4  12 Jan 2004  78.92975  144.73348  100.50125"
      ]
     },
     "execution_count": 134,
     "metadata": {},
     "output_type": "execute_result"
    }
   ],
   "source": [
    "Angola_df.head()"
   ]
  },
  {
   "cell_type": "code",
   "execution_count": 135,
   "metadata": {},
   "outputs": [],
   "source": [
    "Angola_df['Date'] = pd.to_datetime(Angola_df['Date'])"
   ]
  },
  {
   "cell_type": "code",
   "execution_count": 136,
   "metadata": {},
   "outputs": [],
   "source": [
    "# Convert to a specific string format (e.g., 'YYYY-MM-DD')\n",
    "Angola_df['Date'] = Angola_df['Date'].dt.strftime('%Y-%m-%d')"
   ]
  },
  {
   "cell_type": "code",
   "execution_count": 137,
   "metadata": {},
   "outputs": [
    {
     "data": {
      "text/html": [
       "<div>\n",
       "<style scoped>\n",
       "    .dataframe tbody tr th:only-of-type {\n",
       "        vertical-align: middle;\n",
       "    }\n",
       "\n",
       "    .dataframe tbody tr th {\n",
       "        vertical-align: top;\n",
       "    }\n",
       "\n",
       "    .dataframe thead th {\n",
       "        text-align: right;\n",
       "    }\n",
       "</style>\n",
       "<table border=\"1\" class=\"dataframe\">\n",
       "  <thead>\n",
       "    <tr style=\"text-align: right;\">\n",
       "      <th></th>\n",
       "      <th>Date</th>\n",
       "      <th>USD</th>\n",
       "      <th>GBP</th>\n",
       "      <th>EUR</th>\n",
       "    </tr>\n",
       "  </thead>\n",
       "  <tbody>\n",
       "    <tr>\n",
       "      <th>0</th>\n",
       "      <td>2004-01-06</td>\n",
       "      <td>79.01866</td>\n",
       "      <td>140.84286</td>\n",
       "      <td>99.68994</td>\n",
       "    </tr>\n",
       "    <tr>\n",
       "      <th>1</th>\n",
       "      <td>2004-01-07</td>\n",
       "      <td>78.87716</td>\n",
       "      <td>143.36713</td>\n",
       "      <td>100.33175</td>\n",
       "    </tr>\n",
       "    <tr>\n",
       "      <th>2</th>\n",
       "      <td>2004-01-08</td>\n",
       "      <td>78.84478</td>\n",
       "      <td>143.09539</td>\n",
       "      <td>99.77018</td>\n",
       "    </tr>\n",
       "    <tr>\n",
       "      <th>3</th>\n",
       "      <td>2004-01-09</td>\n",
       "      <td>78.90775</td>\n",
       "      <td>143.27280</td>\n",
       "      <td>99.38431</td>\n",
       "    </tr>\n",
       "    <tr>\n",
       "      <th>4</th>\n",
       "      <td>2004-01-12</td>\n",
       "      <td>78.92975</td>\n",
       "      <td>144.73348</td>\n",
       "      <td>100.50125</td>\n",
       "    </tr>\n",
       "  </tbody>\n",
       "</table>\n",
       "</div>"
      ],
      "text/plain": [
       "         Date       USD        GBP        EUR\n",
       "0  2004-01-06  79.01866  140.84286   99.68994\n",
       "1  2004-01-07  78.87716  143.36713  100.33175\n",
       "2  2004-01-08  78.84478  143.09539   99.77018\n",
       "3  2004-01-09  78.90775  143.27280   99.38431\n",
       "4  2004-01-12  78.92975  144.73348  100.50125"
      ]
     },
     "execution_count": 137,
     "metadata": {},
     "output_type": "execute_result"
    }
   ],
   "source": [
    "Angola_df.head()"
   ]
  },
  {
   "cell_type": "code",
   "execution_count": 138,
   "metadata": {},
   "outputs": [],
   "source": [
    "USD_Angola_df = Angola_df[['Date', 'USD']]\n",
    "GBP_Angola_df = Angola_df[['Date', 'GBP']]\n",
    "EUR_Angola_df = Angola_df[['Date', 'EUR']]"
   ]
  },
  {
   "cell_type": "code",
   "execution_count": 139,
   "metadata": {},
   "outputs": [],
   "source": [
    "Min_date = Angola_df['Date'].min()\n",
    "Max_date = Angola_df['Date'].max()\n"
   ]
  },
  {
   "cell_type": "code",
   "execution_count": 140,
   "metadata": {},
   "outputs": [],
   "source": [
    "all_dates = pd.date_range(start=Min_date, end=Max_date, freq='D')"
   ]
  },
  {
   "cell_type": "code",
   "execution_count": 141,
   "metadata": {},
   "outputs": [],
   "source": [
    "dates_df = pd.DataFrame(all_dates, columns=['Date'])"
   ]
  },
  {
   "cell_type": "code",
   "execution_count": 142,
   "metadata": {},
   "outputs": [
    {
     "name": "stdout",
     "output_type": "stream",
     "text": [
      "<class 'pandas.core.frame.DataFrame'>\n",
      "RangeIndex: 7269 entries, 0 to 7268\n",
      "Data columns (total 1 columns):\n",
      " #   Column  Non-Null Count  Dtype         \n",
      "---  ------  --------------  -----         \n",
      " 0   Date    7269 non-null   datetime64[ns]\n",
      "dtypes: datetime64[ns](1)\n",
      "memory usage: 56.9 KB\n"
     ]
    }
   ],
   "source": [
    "dates_df.info()"
   ]
  },
  {
   "cell_type": "code",
   "execution_count": 143,
   "metadata": {},
   "outputs": [
    {
     "name": "stdout",
     "output_type": "stream",
     "text": [
      "<class 'pandas.core.frame.DataFrame'>\n",
      "RangeIndex: 4825 entries, 0 to 4824\n",
      "Data columns (total 4 columns):\n",
      " #   Column  Non-Null Count  Dtype  \n",
      "---  ------  --------------  -----  \n",
      " 0   Date    4825 non-null   object \n",
      " 1   USD     4823 non-null   float64\n",
      " 2   GBP     4756 non-null   float64\n",
      " 3   EUR     4760 non-null   float64\n",
      "dtypes: float64(3), object(1)\n",
      "memory usage: 150.9+ KB\n"
     ]
    }
   ],
   "source": [
    "Angola_df.info()"
   ]
  },
  {
   "cell_type": "code",
   "execution_count": 144,
   "metadata": {},
   "outputs": [],
   "source": [
    "Angola_df['Date'] = pd.to_datetime(Angola_df['Date'])"
   ]
  },
  {
   "cell_type": "code",
   "execution_count": 145,
   "metadata": {},
   "outputs": [],
   "source": [
    "Angola_merge_df = pd.merge(dates_df, Angola_df, how='left', on= 'Date')"
   ]
  },
  {
   "cell_type": "code",
   "execution_count": 146,
   "metadata": {},
   "outputs": [
    {
     "data": {
      "text/html": [
       "<div>\n",
       "<style scoped>\n",
       "    .dataframe tbody tr th:only-of-type {\n",
       "        vertical-align: middle;\n",
       "    }\n",
       "\n",
       "    .dataframe tbody tr th {\n",
       "        vertical-align: top;\n",
       "    }\n",
       "\n",
       "    .dataframe thead th {\n",
       "        text-align: right;\n",
       "    }\n",
       "</style>\n",
       "<table border=\"1\" class=\"dataframe\">\n",
       "  <thead>\n",
       "    <tr style=\"text-align: right;\">\n",
       "      <th></th>\n",
       "      <th>Date</th>\n",
       "      <th>USD</th>\n",
       "      <th>GBP</th>\n",
       "      <th>EUR</th>\n",
       "    </tr>\n",
       "  </thead>\n",
       "  <tbody>\n",
       "    <tr>\n",
       "      <th>0</th>\n",
       "      <td>2004-01-06</td>\n",
       "      <td>79.01866</td>\n",
       "      <td>140.84286</td>\n",
       "      <td>99.68994</td>\n",
       "    </tr>\n",
       "    <tr>\n",
       "      <th>1</th>\n",
       "      <td>2004-01-07</td>\n",
       "      <td>78.87716</td>\n",
       "      <td>143.36713</td>\n",
       "      <td>100.33175</td>\n",
       "    </tr>\n",
       "    <tr>\n",
       "      <th>2</th>\n",
       "      <td>2004-01-08</td>\n",
       "      <td>78.84478</td>\n",
       "      <td>143.09539</td>\n",
       "      <td>99.77018</td>\n",
       "    </tr>\n",
       "    <tr>\n",
       "      <th>3</th>\n",
       "      <td>2004-01-09</td>\n",
       "      <td>78.90775</td>\n",
       "      <td>143.27280</td>\n",
       "      <td>99.38431</td>\n",
       "    </tr>\n",
       "    <tr>\n",
       "      <th>4</th>\n",
       "      <td>2004-01-10</td>\n",
       "      <td>NaN</td>\n",
       "      <td>NaN</td>\n",
       "      <td>NaN</td>\n",
       "    </tr>\n",
       "  </tbody>\n",
       "</table>\n",
       "</div>"
      ],
      "text/plain": [
       "        Date       USD        GBP        EUR\n",
       "0 2004-01-06  79.01866  140.84286   99.68994\n",
       "1 2004-01-07  78.87716  143.36713  100.33175\n",
       "2 2004-01-08  78.84478  143.09539   99.77018\n",
       "3 2004-01-09  78.90775  143.27280   99.38431\n",
       "4 2004-01-10       NaN        NaN        NaN"
      ]
     },
     "execution_count": 146,
     "metadata": {},
     "output_type": "execute_result"
    }
   ],
   "source": [
    "Angola_merge_df.head()"
   ]
  },
  {
   "cell_type": "code",
   "execution_count": 147,
   "metadata": {},
   "outputs": [],
   "source": [
    "Angola_merge_df = Angola_merge_df[~Angola_merge_df['Date'].dt.weekday.isin([5, 6])]"
   ]
  },
  {
   "cell_type": "code",
   "execution_count": 148,
   "metadata": {},
   "outputs": [
    {
     "data": {
      "text/html": [
       "<div>\n",
       "<style scoped>\n",
       "    .dataframe tbody tr th:only-of-type {\n",
       "        vertical-align: middle;\n",
       "    }\n",
       "\n",
       "    .dataframe tbody tr th {\n",
       "        vertical-align: top;\n",
       "    }\n",
       "\n",
       "    .dataframe thead th {\n",
       "        text-align: right;\n",
       "    }\n",
       "</style>\n",
       "<table border=\"1\" class=\"dataframe\">\n",
       "  <thead>\n",
       "    <tr style=\"text-align: right;\">\n",
       "      <th></th>\n",
       "      <th>Date</th>\n",
       "      <th>USD</th>\n",
       "      <th>GBP</th>\n",
       "      <th>EUR</th>\n",
       "    </tr>\n",
       "  </thead>\n",
       "  <tbody>\n",
       "    <tr>\n",
       "      <th>0</th>\n",
       "      <td>2004-01-06</td>\n",
       "      <td>79.01866</td>\n",
       "      <td>140.84286</td>\n",
       "      <td>99.68994</td>\n",
       "    </tr>\n",
       "    <tr>\n",
       "      <th>1</th>\n",
       "      <td>2004-01-07</td>\n",
       "      <td>78.87716</td>\n",
       "      <td>143.36713</td>\n",
       "      <td>100.33175</td>\n",
       "    </tr>\n",
       "    <tr>\n",
       "      <th>2</th>\n",
       "      <td>2004-01-08</td>\n",
       "      <td>78.84478</td>\n",
       "      <td>143.09539</td>\n",
       "      <td>99.77018</td>\n",
       "    </tr>\n",
       "    <tr>\n",
       "      <th>3</th>\n",
       "      <td>2004-01-09</td>\n",
       "      <td>78.90775</td>\n",
       "      <td>143.27280</td>\n",
       "      <td>99.38431</td>\n",
       "    </tr>\n",
       "    <tr>\n",
       "      <th>6</th>\n",
       "      <td>2004-01-12</td>\n",
       "      <td>78.92975</td>\n",
       "      <td>144.73348</td>\n",
       "      <td>100.50125</td>\n",
       "    </tr>\n",
       "    <tr>\n",
       "      <th>...</th>\n",
       "      <td>...</td>\n",
       "      <td>...</td>\n",
       "      <td>...</td>\n",
       "      <td>...</td>\n",
       "    </tr>\n",
       "    <tr>\n",
       "      <th>7262</th>\n",
       "      <td>2023-11-24</td>\n",
       "      <td>827.71600</td>\n",
       "      <td>NaN</td>\n",
       "      <td>NaN</td>\n",
       "    </tr>\n",
       "    <tr>\n",
       "      <th>7265</th>\n",
       "      <td>2023-11-27</td>\n",
       "      <td>827.71600</td>\n",
       "      <td>NaN</td>\n",
       "      <td>NaN</td>\n",
       "    </tr>\n",
       "    <tr>\n",
       "      <th>7266</th>\n",
       "      <td>2023-11-28</td>\n",
       "      <td>827.79300</td>\n",
       "      <td>NaN</td>\n",
       "      <td>NaN</td>\n",
       "    </tr>\n",
       "    <tr>\n",
       "      <th>7267</th>\n",
       "      <td>2023-11-29</td>\n",
       "      <td>827.79300</td>\n",
       "      <td>NaN</td>\n",
       "      <td>NaN</td>\n",
       "    </tr>\n",
       "    <tr>\n",
       "      <th>7268</th>\n",
       "      <td>2023-11-30</td>\n",
       "      <td>827.79300</td>\n",
       "      <td>NaN</td>\n",
       "      <td>NaN</td>\n",
       "    </tr>\n",
       "  </tbody>\n",
       "</table>\n",
       "<p>5193 rows × 4 columns</p>\n",
       "</div>"
      ],
      "text/plain": [
       "           Date        USD        GBP        EUR\n",
       "0    2004-01-06   79.01866  140.84286   99.68994\n",
       "1    2004-01-07   78.87716  143.36713  100.33175\n",
       "2    2004-01-08   78.84478  143.09539   99.77018\n",
       "3    2004-01-09   78.90775  143.27280   99.38431\n",
       "6    2004-01-12   78.92975  144.73348  100.50125\n",
       "...         ...        ...        ...        ...\n",
       "7262 2023-11-24  827.71600        NaN        NaN\n",
       "7265 2023-11-27  827.71600        NaN        NaN\n",
       "7266 2023-11-28  827.79300        NaN        NaN\n",
       "7267 2023-11-29  827.79300        NaN        NaN\n",
       "7268 2023-11-30  827.79300        NaN        NaN\n",
       "\n",
       "[5193 rows x 4 columns]"
      ]
     },
     "execution_count": 148,
     "metadata": {},
     "output_type": "execute_result"
    }
   ],
   "source": [
    "Angola_merge_df"
   ]
  },
  {
   "cell_type": "code",
   "execution_count": 149,
   "metadata": {},
   "outputs": [],
   "source": [
    "Angola_merge_df = Angola_merge_df.set_index('Date')\n"
   ]
  },
  {
   "cell_type": "code",
   "execution_count": 150,
   "metadata": {},
   "outputs": [
    {
     "data": {
      "text/html": [
       "<div>\n",
       "<style scoped>\n",
       "    .dataframe tbody tr th:only-of-type {\n",
       "        vertical-align: middle;\n",
       "    }\n",
       "\n",
       "    .dataframe tbody tr th {\n",
       "        vertical-align: top;\n",
       "    }\n",
       "\n",
       "    .dataframe thead th {\n",
       "        text-align: right;\n",
       "    }\n",
       "</style>\n",
       "<table border=\"1\" class=\"dataframe\">\n",
       "  <thead>\n",
       "    <tr style=\"text-align: right;\">\n",
       "      <th></th>\n",
       "      <th>USD</th>\n",
       "      <th>GBP</th>\n",
       "      <th>EUR</th>\n",
       "    </tr>\n",
       "    <tr>\n",
       "      <th>Date</th>\n",
       "      <th></th>\n",
       "      <th></th>\n",
       "      <th></th>\n",
       "    </tr>\n",
       "  </thead>\n",
       "  <tbody>\n",
       "    <tr>\n",
       "      <th>2004-01-06</th>\n",
       "      <td>79.01866</td>\n",
       "      <td>140.84286</td>\n",
       "      <td>99.68994</td>\n",
       "    </tr>\n",
       "    <tr>\n",
       "      <th>2004-01-07</th>\n",
       "      <td>78.87716</td>\n",
       "      <td>143.36713</td>\n",
       "      <td>100.33175</td>\n",
       "    </tr>\n",
       "    <tr>\n",
       "      <th>2004-01-08</th>\n",
       "      <td>78.84478</td>\n",
       "      <td>143.09539</td>\n",
       "      <td>99.77018</td>\n",
       "    </tr>\n",
       "    <tr>\n",
       "      <th>2004-01-09</th>\n",
       "      <td>78.90775</td>\n",
       "      <td>143.27280</td>\n",
       "      <td>99.38431</td>\n",
       "    </tr>\n",
       "    <tr>\n",
       "      <th>2004-01-12</th>\n",
       "      <td>78.92975</td>\n",
       "      <td>144.73348</td>\n",
       "      <td>100.50125</td>\n",
       "    </tr>\n",
       "    <tr>\n",
       "      <th>...</th>\n",
       "      <td>...</td>\n",
       "      <td>...</td>\n",
       "      <td>...</td>\n",
       "    </tr>\n",
       "    <tr>\n",
       "      <th>2023-11-24</th>\n",
       "      <td>827.71600</td>\n",
       "      <td>NaN</td>\n",
       "      <td>NaN</td>\n",
       "    </tr>\n",
       "    <tr>\n",
       "      <th>2023-11-27</th>\n",
       "      <td>827.71600</td>\n",
       "      <td>NaN</td>\n",
       "      <td>NaN</td>\n",
       "    </tr>\n",
       "    <tr>\n",
       "      <th>2023-11-28</th>\n",
       "      <td>827.79300</td>\n",
       "      <td>NaN</td>\n",
       "      <td>NaN</td>\n",
       "    </tr>\n",
       "    <tr>\n",
       "      <th>2023-11-29</th>\n",
       "      <td>827.79300</td>\n",
       "      <td>NaN</td>\n",
       "      <td>NaN</td>\n",
       "    </tr>\n",
       "    <tr>\n",
       "      <th>2023-11-30</th>\n",
       "      <td>827.79300</td>\n",
       "      <td>NaN</td>\n",
       "      <td>NaN</td>\n",
       "    </tr>\n",
       "  </tbody>\n",
       "</table>\n",
       "<p>5193 rows × 3 columns</p>\n",
       "</div>"
      ],
      "text/plain": [
       "                  USD        GBP        EUR\n",
       "Date                                       \n",
       "2004-01-06   79.01866  140.84286   99.68994\n",
       "2004-01-07   78.87716  143.36713  100.33175\n",
       "2004-01-08   78.84478  143.09539   99.77018\n",
       "2004-01-09   78.90775  143.27280   99.38431\n",
       "2004-01-12   78.92975  144.73348  100.50125\n",
       "...               ...        ...        ...\n",
       "2023-11-24  827.71600        NaN        NaN\n",
       "2023-11-27  827.71600        NaN        NaN\n",
       "2023-11-28  827.79300        NaN        NaN\n",
       "2023-11-29  827.79300        NaN        NaN\n",
       "2023-11-30  827.79300        NaN        NaN\n",
       "\n",
       "[5193 rows x 3 columns]"
      ]
     },
     "execution_count": 150,
     "metadata": {},
     "output_type": "execute_result"
    }
   ],
   "source": [
    "Angola_merge_df"
   ]
  },
  {
   "cell_type": "code",
   "execution_count": null,
   "metadata": {},
   "outputs": [],
   "source": [
    "# Create the scatter plot\n",
    "plt.figure(figsize=(10, 6))  # Optional: setting the figure size\n",
    "plt.scatter(Angola_merge_df['Kz'], Angola_merge_df['USD'], color='blue', alpha=0.6)\n",
    "\n",
    "# Add labels and title\n",
    "plt.xlabel('Angolan Kwanza KZ')\n",
    "plt.ylabel('USD Exchange Rate')\n",
    "plt.title('Scatter Plot of Date vs USD Exchange Rate')\n",
    "\n",
    "# Display the plot\n",
    "plt.xticks(rotation=45)  # Rotate x-axis labels for better readability\n",
    "plt.tight_layout()  # Adjust layout to prevent clipping of labels\n",
    "plt.show()"
   ]
  }
 ],
 "metadata": {
  "kernelspec": {
   "display_name": "venv",
   "language": "python",
   "name": "python3"
  },
  "language_info": {
   "codemirror_mode": {
    "name": "ipython",
    "version": 3
   },
   "file_extension": ".py",
   "mimetype": "text/x-python",
   "name": "python",
   "nbconvert_exporter": "python",
   "pygments_lexer": "ipython3",
   "version": "3.9.6"
  }
 },
 "nbformat": 4,
 "nbformat_minor": 2
}
